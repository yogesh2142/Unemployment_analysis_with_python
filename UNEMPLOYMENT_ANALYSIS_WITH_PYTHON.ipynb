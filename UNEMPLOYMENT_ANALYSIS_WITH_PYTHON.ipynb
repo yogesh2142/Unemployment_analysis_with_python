{
  "nbformat": 4,
  "nbformat_minor": 0,
  "metadata": {
    "colab": {
      "private_outputs": true,
      "provenance": [],
      "authorship_tag": "ABX9TyOLy/VWQxiR/9/lh88JtzAo",
      "include_colab_link": true
    },
    "kernelspec": {
      "name": "python3",
      "display_name": "Python 3"
    },
    "language_info": {
      "name": "python"
    }
  },
  "cells": [
    {
      "cell_type": "markdown",
      "metadata": {
        "id": "view-in-github",
        "colab_type": "text"
      },
      "source": [
        "<a href=\"https://colab.research.google.com/github/yogesh2142/unemployment_analysis_with_python/blob/main/UNEMPLOYMENT_ANALYSIS_WITH_PYTHON.ipynb\" target=\"_parent\"><img src=\"https://colab.research.google.com/assets/colab-badge.svg\" alt=\"Open In Colab\"/></a>"
      ]
    },
    {
      "cell_type": "markdown",
      "source": [
        "# Import Necessary Libraries"
      ],
      "metadata": {
        "id": "LT4X0zsmeXOI"
      }
    },
    {
      "cell_type": "code",
      "execution_count": null,
      "metadata": {
        "id": "e3SdCZ7Vdhsz"
      },
      "outputs": [],
      "source": [
        "import numpy as np # linear algebra\n",
        "import pandas as pd # data processing "
      ]
    },
    {
      "cell_type": "markdown",
      "source": [
        "Reading CSV File"
      ],
      "metadata": {
        "id": "WoYQfRD7e5qr"
      }
    },
    {
      "cell_type": "code",
      "source": [
        "from google.colab import files\n",
        "uploaded = files.upload()"
      ],
      "metadata": {
        "id": "KqzHizximn1v"
      },
      "execution_count": null,
      "outputs": []
    },
    {
      "cell_type": "code",
      "source": [
        "df = pd.read_csv('Unemployment_Rate_upto_11_2020.csv') # read dataset"
      ],
      "metadata": {
        "id": "ADR8j-1fe2zX"
      },
      "execution_count": null,
      "outputs": []
    },
    {
      "cell_type": "code",
      "source": [
        "df.head()"
      ],
      "metadata": {
        "id": "zf8HpyAglzIP"
      },
      "execution_count": null,
      "outputs": []
    },
    {
      "cell_type": "code",
      "source": [
        "df.tail()"
      ],
      "metadata": {
        "id": "C8NUuAGLm-bl"
      },
      "execution_count": null,
      "outputs": []
    },
    {
      "cell_type": "code",
      "source": [
        "df.shape"
      ],
      "metadata": {
        "id": "0mqUpNHqnTar"
      },
      "execution_count": null,
      "outputs": []
    },
    {
      "cell_type": "code",
      "source": [
        "df.info()"
      ],
      "metadata": {
        "id": "Yj6fI7k_nY1g"
      },
      "execution_count": null,
      "outputs": []
    },
    {
      "cell_type": "markdown",
      "source": [
        "Describing Data"
      ],
      "metadata": {
        "id": "iTXfCINMng8I"
      }
    },
    {
      "cell_type": "code",
      "source": [
        "df.describe()"
      ],
      "metadata": {
        "id": "KliX1XUzndyf"
      },
      "execution_count": null,
      "outputs": []
    },
    {
      "cell_type": "code",
      "source": [
        "x=df['Region']"
      ],
      "metadata": {
        "id": "fuEWPTUdnuuB"
      },
      "execution_count": null,
      "outputs": []
    },
    {
      "cell_type": "code",
      "source": [
        "x"
      ],
      "metadata": {
        "id": "_IIzMYghn5vH"
      },
      "execution_count": null,
      "outputs": []
    },
    {
      "cell_type": "code",
      "source": [
        "y=df[' Estimated Unemployment Rate (%)']"
      ],
      "metadata": {
        "id": "y71yV7j3n7U4"
      },
      "execution_count": null,
      "outputs": []
    },
    {
      "cell_type": "code",
      "source": [
        "y"
      ],
      "metadata": {
        "id": "NZN7jWgFoA37"
      },
      "execution_count": null,
      "outputs": []
    },
    {
      "cell_type": "code",
      "source": [
        "df2=df.iloc[:,3]"
      ],
      "metadata": {
        "id": "12_jpLF2oBmn"
      },
      "execution_count": null,
      "outputs": []
    },
    {
      "cell_type": "code",
      "source": [
        "df2"
      ],
      "metadata": {
        "id": "nfV1-G8FoFa7"
      },
      "execution_count": null,
      "outputs": []
    },
    {
      "cell_type": "markdown",
      "source": [
        "# Importing Necessary Libraries"
      ],
      "metadata": {
        "id": "8ETkhfXooNGR"
      }
    },
    {
      "cell_type": "code",
      "source": [
        "import plotly.express as px\n",
        "import matplotlib.pyplot as plt"
      ],
      "metadata": {
        "id": "7UapqlBdoHV6"
      },
      "execution_count": null,
      "outputs": []
    },
    {
      "cell_type": "markdown",
      "source": [
        "# Analyzing Data By barplots"
      ],
      "metadata": {
        "id": "Q-cU41zEoX9H"
      }
    },
    {
      "cell_type": "code",
      "source": [
        "fg = px.bar(df,x='Region',y=' Estimated Unemployment Rate (%)',color='Region',title='Unemployment rate',animation_frame=' Date',template='plotly')\n",
        "fg.update_layout(xaxis={'categoryorder':'total descending'})\n",
        "fg.show()"
      ],
      "metadata": {
        "id": "DvRwKOgeoU3L"
      },
      "execution_count": null,
      "outputs": []
    },
    {
      "cell_type": "code",
      "source": [
        "fg = px.bar(df,x='Region.1',y=' Estimated Unemployment Rate (%)',color='Region',title='Unemployment rate',animation_frame=' Date',template='plotly')\n",
        "fg.update_layout(xaxis={'categoryorder':'total descending'})\n",
        "fg.show()"
      ],
      "metadata": {
        "id": "otL-64zNogd9"
      },
      "execution_count": null,
      "outputs": []
    },
    {
      "cell_type": "markdown",
      "source": [
        "# Analyzing Data By Boxplot"
      ],
      "metadata": {
        "id": "tE5LVKJior3J"
      }
    },
    {
      "cell_type": "code",
      "source": [
        "fg = px.box(df,x='Region.1',y=' Estimated Unemployment Rate (%)',color='Region',title='Unemployment rate',animation_frame=' Date',template='plotly')\n",
        "fg.update_layout(xaxis={'categoryorder':'total descending'})\n",
        "fg.show()"
      ],
      "metadata": {
        "id": "S398dGcbonFj"
      },
      "execution_count": null,
      "outputs": []
    },
    {
      "cell_type": "markdown",
      "source": [
        "# Analyzing Data By scatterplot"
      ],
      "metadata": {
        "id": "ypAcE3l8o0A4"
      }
    },
    {
      "cell_type": "code",
      "source": [
        "fg = px.scatter(df,x='Region.1',y=' Estimated Unemployment Rate (%)',color='Region',title='Unemployment rate',animation_frame=' Date',template='plotly')\n",
        "fg.update_layout(xaxis={'categoryorder':'total descending'})\n",
        "fg.show()"
      ],
      "metadata": {
        "id": "uo3_p-XKowja"
      },
      "execution_count": null,
      "outputs": []
    },
    {
      "cell_type": "markdown",
      "source": [
        "  # Analyzing Data By Histogram"
      ],
      "metadata": {
        "id": "ZOLdZSmIo8yd"
      }
    },
    {
      "cell_type": "code",
      "source": [
        "fg = px.histogram(df,x='Region.1',y=' Estimated Unemployment Rate (%)',color='Region',title='Unemployment rate',animation_frame=' Date',template='plotly')\n",
        "fg.update_layout(xaxis={'categoryorder':'total descending'})\n",
        "fg.show()"
      ],
      "metadata": {
        "id": "ZoUOeMexo45Y"
      },
      "execution_count": null,
      "outputs": []
    },
    {
      "cell_type": "markdown",
      "source": [
        "# Thank You\n",
        "\n",
        "\n",
        "\n",
        "\n"
      ],
      "metadata": {
        "id": "yKMP-9BLp4Mn"
      }
    }
  ]
}